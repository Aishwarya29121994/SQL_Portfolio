{
 "cells": [
  {
   "cell_type": "code",
   "execution_count": 2,
   "id": "89d367a1-be49-43bb-bfbb-49862688ed9b",
   "metadata": {},
   "outputs": [],
   "source": [
    "%load_ext sql\n",
    "%sql sqlite:///portfolio.db\n",
    "    "
   ]
  },
  {
   "cell_type": "code",
   "execution_count": 1,
   "id": "6753f86d-d192-4a02-897f-09cd182ddf6d",
   "metadata": {},
   "outputs": [
    {
     "data": {
      "text/html": [
       "<div>\n",
       "<style scoped>\n",
       "    .dataframe tbody tr th:only-of-type {\n",
       "        vertical-align: middle;\n",
       "    }\n",
       "\n",
       "    .dataframe tbody tr th {\n",
       "        vertical-align: top;\n",
       "    }\n",
       "\n",
       "    .dataframe thead th {\n",
       "        text-align: right;\n",
       "    }\n",
       "</style>\n",
       "<table border=\"1\" class=\"dataframe\">\n",
       "  <thead>\n",
       "    <tr style=\"text-align: right;\">\n",
       "      <th></th>\n",
       "      <th>customer_id</th>\n",
       "      <th>n_orders</th>\n",
       "      <th>revenue</th>\n",
       "    </tr>\n",
       "  </thead>\n",
       "  <tbody>\n",
       "    <tr>\n",
       "      <th>0</th>\n",
       "      <td>103</td>\n",
       "      <td>1</td>\n",
       "      <td>200.00</td>\n",
       "    </tr>\n",
       "    <tr>\n",
       "      <th>1</th>\n",
       "      <td>102</td>\n",
       "      <td>1</td>\n",
       "      <td>120.00</td>\n",
       "    </tr>\n",
       "    <tr>\n",
       "      <th>2</th>\n",
       "      <td>101</td>\n",
       "      <td>2</td>\n",
       "      <td>99.40</td>\n",
       "    </tr>\n",
       "    <tr>\n",
       "      <th>3</th>\n",
       "      <td>104</td>\n",
       "      <td>1</td>\n",
       "      <td>77.25</td>\n",
       "    </tr>\n",
       "  </tbody>\n",
       "</table>\n",
       "</div>"
      ],
      "text/plain": [
       "   customer_id  n_orders  revenue\n",
       "0          103         1   200.00\n",
       "1          102         1   120.00\n",
       "2          101         2    99.40\n",
       "3          104         1    77.25"
      ]
     },
     "execution_count": 1,
     "metadata": {},
     "output_type": "execute_result"
    }
   ],
   "source": [
    "import pandas as pd, sqlite3\n",
    "conn = sqlite3.connect(\"portfolio.db\")\n",
    "\n",
    "result = pd.read_sql_query(\"\"\"\n",
    "SELECT customer_id,\n",
    "       COUNT(*) AS n_orders,\n",
    "       SUM(total_amount) AS revenue\n",
    "FROM orders\n",
    "GROUP BY 1\n",
    "ORDER BY revenue DESC;\n",
    "\"\"\", conn)\n",
    "\n",
    "result\n",
    "\n"
   ]
  },
  {
   "cell_type": "code",
   "execution_count": 3,
   "id": "c1589070-f704-4c22-bc11-42a602e80826",
   "metadata": {},
   "outputs": [],
   "source": [
    "%load_ext sql\n",
    "%sql sqlite:///portfolio.db"
   ]
  },
  {
   "cell_type": "code",
   "execution_count": 7,
   "id": "16fd8b0e-a595-4360-85aa-163577c75a94",
   "metadata": {},
   "outputs": [],
   "source": [
    "  %reload_ext sql"
   ]
  },
  {
   "cell_type": "code",
   "execution_count": 4,
   "id": "83d4d1e2-8e77-436a-aa47-c5a7a977e02f",
   "metadata": {},
   "outputs": [
    {
     "name": "stdout",
     "output_type": "stream",
     "text": [
      " * sqlite:///portfolio.db\n",
      "Done.\n"
     ]
    },
    {
     "data": {
      "text/html": [
       "<table>\n",
       "    <thead>\n",
       "        <tr>\n",
       "            <th>customer_id</th>\n",
       "            <th>n_orders</th>\n",
       "            <th>revenue</th>\n",
       "        </tr>\n",
       "    </thead>\n",
       "    <tbody>\n",
       "        <tr>\n",
       "            <td>103</td>\n",
       "            <td>1</td>\n",
       "            <td>200.0</td>\n",
       "        </tr>\n",
       "        <tr>\n",
       "            <td>102</td>\n",
       "            <td>1</td>\n",
       "            <td>120.0</td>\n",
       "        </tr>\n",
       "        <tr>\n",
       "            <td>101</td>\n",
       "            <td>2</td>\n",
       "            <td>99.4</td>\n",
       "        </tr>\n",
       "        <tr>\n",
       "            <td>104</td>\n",
       "            <td>1</td>\n",
       "            <td>77.25</td>\n",
       "        </tr>\n",
       "    </tbody>\n",
       "</table>"
      ],
      "text/plain": [
       "[(103, 1, 200.0), (102, 1, 120.0), (101, 2, 99.4), (104, 1, 77.25)]"
      ]
     },
     "execution_count": 4,
     "metadata": {},
     "output_type": "execute_result"
    }
   ],
   "source": [
    "%%sql\n",
    "SELECT customer_id,\n",
    "       COUNT(*) AS n_orders,\n",
    "       SUM(total_amount) AS revenue\n",
    "FROM orders\n",
    "GROUP BY 1\n",
    "ORDER BY revenue DESC;"
   ]
  },
  {
   "cell_type": "code",
   "execution_count": 6,
   "id": "901b16df-6555-4f89-a0ac-a77a804c6877",
   "metadata": {},
   "outputs": [],
   "source": [
    "# 1) Make sure the table exists at least once\n",
    "import pandas as pd\n",
    "from sqlalchemy import create_engine\n",
    "engine = create_engine(\"sqlite:///portfolio.db\")\n",
    "pd.read_csv(\"../data/orders.csv\").to_sql(\"orders\", engine, if_exists=\"replace\", index=False)\n",
    "\n",
    "# 2) Configure ipython-sql (choose one of these lines)\n",
    "%config SqlMagic.autopandas = True   # OR: %config SqlMagic.style = 'PLAIN_COLUMNS'\n"
   ]
  },
  {
   "cell_type": "code",
   "execution_count": null,
   "id": "68e33f0a-ca85-4a14-96cc-0e0af5a865de",
   "metadata": {},
   "outputs": [],
   "source": []
  },
  {
   "cell_type": "code",
   "execution_count": null,
   "id": "dac823c2-7057-45ee-8587-67c3e25bb8e2",
   "metadata": {},
   "outputs": [],
   "source": []
  }
 ],
 "metadata": {
  "kernelspec": {
   "display_name": "Python 3 (ipykernel)",
   "language": "python",
   "name": "python3"
  },
  "language_info": {
   "codemirror_mode": {
    "name": "ipython",
    "version": 3
   },
   "file_extension": ".py",
   "mimetype": "text/x-python",
   "name": "python",
   "nbconvert_exporter": "python",
   "pygments_lexer": "ipython3",
   "version": "3.9.6"
  }
 },
 "nbformat": 4,
 "nbformat_minor": 5
}
